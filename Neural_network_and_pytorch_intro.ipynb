{
  "nbformat": 4,
  "nbformat_minor": 0,
  "metadata": {
    "colab": {
      "provenance": [],
      "authorship_tag": "ABX9TyNGWVFXnx4jmaREUOaLE8Xg",
      "include_colab_link": true
    },
    "kernelspec": {
      "name": "python3",
      "display_name": "Python 3"
    },
    "language_info": {
      "name": "python"
    }
  },
  "cells": [
    {
      "cell_type": "markdown",
      "metadata": {
        "id": "view-in-github",
        "colab_type": "text"
      },
      "source": [
        "<a href=\"https://colab.research.google.com/github/nithinpvarkey/neural_network_pytorch/blob/main/Neural_network_and_pytorch_intro.ipynb\" target=\"_parent\"><img src=\"https://colab.research.google.com/assets/colab-badge.svg\" alt=\"Open In Colab\"/></a>"
      ]
    },
    {
      "cell_type": "code",
      "execution_count": 13,
      "metadata": {
        "id": "B0AHXr23Z2X5"
      },
      "outputs": [],
      "source": [
        "import torch\n",
        "import torch.nn as nn\n",
        "import numpy as np\n",
        "import matplotlib.pyplot as plt"
      ]
    },
    {
      "cell_type": "markdown",
      "source": [
        "*In PyTorch, a **Tensor** is the fundamental data structure, similar to NumPy arrays but with additional capabilities, such as GPU acceleration and automatic differentiation.*"
      ],
      "metadata": {
        "id": "dYhQQ49-c9iE"
      }
    },
    {
      "cell_type": "code",
      "source": [
        "# Scalar (0D tensor)\n",
        "scalar = torch.tensor(5)\n",
        "scalar     # Output: tensor(5)--> This means \"a tensor containing the value 5.\"\n",
        "print(scalar.shape)\n",
        "\n",
        "\n",
        "# Vector (1D tensor)\n",
        "vector = torch.tensor([1,2,3])\n",
        "vector                    # output : tensor([1,2,3])\n",
        "print(vector.shape)\n",
        "\n",
        "matrix = torch.tensor([[1, 2], [3, 4]])\n",
        "print(matrix.shape)  # Output: torch.Size([2, 2])\n",
        "matrix\n",
        "\n",
        "# 3D Tensor\n",
        "tensor_3d = torch.rand(2, 3, 4)  # Random tensor of shape (2,3,4)\n",
        "print(tensor_3d.shape)   # Output: torch.Size([2, 3, 4])\n",
        "tensor_3d"
      ],
      "metadata": {
        "colab": {
          "base_uri": "https://localhost:8080/"
        },
        "id": "ZMqFB06_ciSk",
        "outputId": "1ae13edd-dc43-40ca-a375-80ab0aa6952b"
      },
      "execution_count": 11,
      "outputs": [
        {
          "output_type": "stream",
          "name": "stdout",
          "text": [
            "torch.Size([])\n",
            "torch.Size([3])\n",
            "torch.Size([2, 2])\n",
            "torch.Size([2, 3, 4])\n"
          ]
        },
        {
          "output_type": "execute_result",
          "data": {
            "text/plain": [
              "tensor([[[0.4780, 0.8451, 0.1578, 0.7977],\n",
              "         [0.7069, 0.1917, 0.9210, 0.7699],\n",
              "         [0.1962, 0.3690, 0.8747, 0.3862]],\n",
              "\n",
              "        [[0.5513, 0.1703, 0.7970, 0.4380],\n",
              "         [0.2904, 0.0886, 0.8022, 0.9744],\n",
              "         [0.2856, 0.6591, 0.2445, 0.0432]]])"
            ]
          },
          "metadata": {},
          "execution_count": 11
        }
      ]
    },
    {
      "cell_type": "code",
      "source": [
        "integer = torch.tensor(1234)\n",
        "decimal = torch.tensor(3.14159265359)\n",
        "print(f\"`integer` is a {integer.ndim}-d Tensor: {integer}\")\n",
        "print(f\"`decimal` is a {decimal.ndim}-d Tensor: {decimal}\")\n"
      ],
      "metadata": {
        "colab": {
          "base_uri": "https://localhost:8080/"
        },
        "id": "DkhHfyhMgS0F",
        "outputId": "6032b9f3-e679-4826-b58f-ec2165ef72b8"
      },
      "execution_count": 13,
      "outputs": [
        {
          "output_type": "stream",
          "name": "stdout",
          "text": [
            "`integer` is a 0-d Tensor: 1234\n",
            "`decimal` is a 0-d Tensor: 3.1415927410125732\n"
          ]
        },
        {
          "output_type": "execute_result",
          "data": {
            "text/plain": [
              "tensor(1234)"
            ]
          },
          "metadata": {},
          "execution_count": 13
        }
      ]
    },
    {
      "cell_type": "markdown",
      "source": [
        "**Basic Tensor Operations**"
      ],
      "metadata": {
        "id": "D3Qr4FYRiKhs"
      }
    },
    {
      "cell_type": "code",
      "source": [
        "#addition\n",
        "a = torch.tensor([1,2,3])\n",
        "b = torch.tensor([4,5,6])\n",
        "sum_tensor = a + b\n",
        "print(\"Sum:\", sum_tensor)\n",
        "\n",
        "# Multiplication (element-wise)\n",
        "mul_tensor = a * b\n",
        "print(\"Element-wise multiplication:\", mul_tensor)\n",
        "\n",
        "# Matrix multiplication\n",
        "c = torch.tensor([[1, 2], [3, 4]])\n",
        "d = torch.tensor([[5, 6], [7, 8]])\n",
        "matmul_tensor = torch.matmul(c, d)\n",
        "print(\"Matrix multiplication:\\n\", matmul_tensor)\n",
        "\n",
        "\n",
        "# Reshape a tensor\n",
        "e = torch.tensor([1, 2, 3, 4, 5, 6])\n",
        "reshaped = e.view(2, 3)\n",
        "print(\"Reshaped tensor:\\n\", reshaped)\n",
        "\n"
      ],
      "metadata": {
        "colab": {
          "base_uri": "https://localhost:8080/"
        },
        "id": "ecBIvtThiKAw",
        "outputId": "07cc3c63-5ffe-4ed7-8cc2-fe20a814dd8e"
      },
      "execution_count": 11,
      "outputs": [
        {
          "output_type": "stream",
          "name": "stdout",
          "text": [
            "Sum: tensor([5, 7, 9])\n",
            "Element-wise multiplication: tensor([ 4, 10, 18])\n",
            "Matrix multiplication:\n",
            " tensor([[19, 22],\n",
            "        [43, 50]])\n",
            "Reshaped tensor:\n",
            " tensor([[1, 2, 3],\n",
            "        [4, 5, 6]])\n"
          ]
        }
      ]
    },
    {
      "cell_type": "markdown",
      "source": [
        "**NEURAL NETWORK IN PYTORCH**\n",
        "\n",
        "PyTorch uses **torch.nn.Module**, which serves as a base class for all neural network modules in PyTorch and thus provides a framework for building and training neural networks.\n",
        "\n",
        "We will use **torch.nn.Module** to define layers. when we implement a layer, we subclass nn.Module and define the parameters of the layer as attributes of our new class.\n",
        "\n"
      ],
      "metadata": {
        "id": "9LkCe0bjkFhR"
      }
    },
    {
      "cell_type": "code",
      "source": [
        "#define a dense layer\n",
        "class MyDenseLayer(torch.nn.Module):\n",
        "  def __init__(self,number_inputs,number_outputs):\n",
        "    super(MyDenseLayer, self).__init__()\n",
        "    self.weights = torch.nn.Parameter(torch.randn(number_inputs,number_outputs))\n",
        "    self.bias = torch.nn.Parameter(torch.randn(number_outputs))\n",
        "\n",
        "  def forward(self,x):\n",
        "    z =  torch.matmul(x,self.weights) + self.bias\n",
        "    y = torch.sigmoid(z)\n",
        "    return y\n"
      ],
      "metadata": {
        "id": "Z7OX8eT_d6ol"
      },
      "execution_count": 15,
      "outputs": []
    },
    {
      "cell_type": "code",
      "source": [
        "# NOW TEST OUTPUT OF OUR LAYER\n",
        "number_inputs = 3\n",
        "number_outputs = 4\n",
        "LAYER = MyDenseLayer(number_inputs,number_outputs)\n",
        "x = torch.randn(1,number_inputs)\n",
        "y = LAYER(x)\n",
        "print(y)"
      ],
      "metadata": {
        "colab": {
          "base_uri": "https://localhost:8080/"
        },
        "id": "jsw7Nb4_1tPK",
        "outputId": "bc3c9790-3485-418f-a676-c7a476b9839c"
      },
      "execution_count": 17,
      "outputs": [
        {
          "output_type": "stream",
          "name": "stdout",
          "text": [
            "tensor([[0.7917, 0.2175, 0.4438, 0.6602]], grad_fn=<SigmoidBackward0>)\n"
          ]
        }
      ]
    },
    {
      "cell_type": "code",
      "source": [],
      "metadata": {
        "id": "3bTn470q1yiM"
      },
      "execution_count": null,
      "outputs": []
    }
  ]
}